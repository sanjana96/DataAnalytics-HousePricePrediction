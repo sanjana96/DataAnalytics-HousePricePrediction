{
 "cells": [
  {
   "cell_type": "code",
   "execution_count": 5,
   "metadata": {
    "collapsed": false
   },
   "outputs": [],
   "source": [
    "import pandas as pd"
   ]
  },
  {
   "cell_type": "code",
   "execution_count": 6,
   "metadata": {
    "collapsed": false
   },
   "outputs": [],
   "source": [
    "#Read train data\n",
    "train = pd.read_csv(\"/home/sanjana/DataAnalytics/project/train.csv\")"
   ]
  },
  {
   "cell_type": "code",
   "execution_count": 7,
   "metadata": {
    "collapsed": false
   },
   "outputs": [],
   "source": [
    "#Do one hot encoding for all the categorical columns using get_dummies funtion\n",
    "clean=pd.get_dummies(train['MSSubClass'])\n",
    "clean=clean.join(pd.get_dummies(train['MSZoning']))\n",
    "\n",
    "#Add column name to category names if the same category exists in more than one column to avoid name clashing\n",
    "newc=[]\n",
    "for i in train['Street']:\n",
    "    newc.append('Street'+(str)(i))\n",
    "clean=clean.join(pd.get_dummies(newc))\n",
    "newc=[]\n",
    "for i in train['Alley']:\n",
    "    newc.append('Alley'+(str)(i))\n",
    "clean=clean.join(pd.get_dummies(newc))#No alley access becomes seperate column\n",
    "\n",
    "clean=clean.join(pd.get_dummies(train['LotShape']))\n",
    "clean=clean.join(pd.get_dummies(train['LandContour']))\n",
    "clean=clean.join(pd.get_dummies(train['Utilities']))\n",
    "clean=clean.join(pd.get_dummies(train['LotConfig']))\n",
    "clean=clean.join(pd.get_dummies(train['Neighborhood']))\n",
    "\n",
    "newc=[]\n",
    "for i in train['Condition1']:\n",
    "    newc.append('Condition1'+(str)(i))\n",
    "clean=clean.join(pd.get_dummies(newc))\n",
    "newc=[]\n",
    "for i in train['Condition2']:\n",
    "    newc.append('Condition2'+(str)(i))\n",
    "clean=clean.join(pd.get_dummies(newc))\n",
    "\n",
    "clean=clean.join(pd.get_dummies(train['BldgType']))\n",
    "clean=clean.join(pd.get_dummies(train['HouseStyle']))#can probably be avoided?\n",
    "clean=clean.join(pd.get_dummies(train['RoofStyle']))\n",
    "clean=clean.join(pd.get_dummies(train['RoofMatl']))\n",
    "\n",
    "newc=[]\n",
    "for i in train['Exterior1st']:\n",
    "    newc.append('Exterior1st'+(str)(i))\n",
    "clean=clean.join(pd.get_dummies(newc))\n",
    "newc=[]\n",
    "for i in train['Exterior2nd']:\n",
    "    newc.append('Exterior2nd'+(str)(i))\n",
    "clean=clean.join(pd.get_dummies(newc))\n",
    "\n",
    "clean=clean.join(pd.get_dummies(train['MasVnrType']))\n",
    "#clean=clean.join(pd.get_dummies(train['Foundation']))\n",
    "clean=clean.join(pd.get_dummies(train['Heating']))\n",
    "clean=clean.join(pd.get_dummies(train['Electrical']))\n",
    "clean=clean.join(pd.get_dummies(train['GarageType']))\n",
    "clean=clean.join(pd.get_dummies(train['PavedDrive']))\n",
    "#clean=clean.join(pd.get_dummies(train['MiscFeature'])) #Since MiscVal is there, can be discarded?\n",
    "clean=clean.join(pd.get_dummies(train['SaleType']))\n",
    "clean=clean.join(pd.get_dummies(train['SaleCondition']))\n",
    "\n",
    "#Using some columns as it is \n",
    "clean['LotFrontage']=train['LotFrontage']\n",
    "clean['LotArea']=train['LotArea']\n",
    "clean['OverallQual']=train['OverallQual']\n",
    "clean['OverallCond']=train['OverallCond']\n",
    "clean['YearBuilt']=train['YearBuilt']\n",
    "clean['BsmtFinSF1']=train['BsmtFinSF1']\n",
    "clean['BsmtFinSF2']=train['BsmtFinSF2']\n",
    "clean['BsmtUnfSF']=train['BsmtUnfSF']\n",
    "clean['TotalBsmtSF']=train['TotalBsmtSF']\n",
    "clean['1stFlrSF']=train['1stFlrSF']\n",
    "clean['2ndFlrSF']=train['2ndFlrSF']\n",
    "clean['LowQualFinSF']=train['LowQualFinSF']\n",
    "clean['GrLivArea']=train['GrLivArea']\n",
    "clean['BsmtFullBath']=train['BsmtFullBath']\n",
    "clean['BsmtHalfBath']=train['BsmtHalfBath']\n",
    "clean['BedroomAbvGr']=train['BedroomAbvGr']\n",
    "clean['KitchenAbvGr']=train['KitchenAbvGr']\n",
    "clean['TotRmsAbvGrd']=train['TotRmsAbvGrd']\n",
    "clean['Fireplaces']=train['Fireplaces']\n",
    "clean['GarageYrBlt']=train['GarageYrBlt']\n",
    "clean['GarageCars']=train['GarageCars']\n",
    "clean['GarageArea']=train['GarageArea']\n",
    "clean['WoodDeckSF']=train['WoodDeckSF']\n",
    "clean['OpenPorchSF']=train['OpenPorchSF']\n",
    "clean['EnclosedPorch']=train['EnclosedPorch']\n",
    "clean['3SsnPorch']=train['3SsnPorch']\n",
    "clean['ScreenPorch']=train['ScreenPorch']\n",
    "clean['PoolArea']=train['PoolArea']\n",
    "clean['MiscVal']=train['MiscVal']\n",
    "clean['MoSold']=train['MoSold']\n",
    "clean['YrSold']=train['YrSold']\n",
    "\n",
    "clean['SalePrice']=train['SalePrice']\n",
    "\n",
    "\n",
    "#Giving ordinal values to some columns where categories represent Excellent, good, average etc\n",
    "def rate(s):\n",
    "    qual = {'Ex': 5, 'Gd': 4, 'TA': 3, 'Fa': 2, \"Po\": 1, 0: 0,\"Mn\": 3, \"Av\": 3,\"No\": 2}\n",
    "    s = s.fillna(0)\n",
    "    return [qual[e] for e in s]\n",
    "\n",
    "clean['ExterQual'] = rate(train['ExterQual'])\n",
    "clean['ExterCond'] = rate(train['ExterCond'])\n",
    "clean['BsmtQual'] = rate(train['BsmtQual'])\n",
    "clean['BsmtCond'] = rate(train['BsmtCond'])\n",
    "clean['BsmtQual'] = rate(train['BsmtQual'])\n",
    "clean['BsmtExposure'] = rate(train['BsmtExposure'])\n",
    "clean['HeatingQC'] = rate(train['HeatingQC'])\n",
    "clean['KitchenQual'] = rate(train['KitchenQual'])\n",
    "clean['FireplaceQu'] = rate(train['FireplaceQu'])\n",
    "clean['GarageQual'] = rate(train['GarageQual'])\n",
    "clean['GarageCond'] = rate(train['GarageCond'])\n",
    "clean['PoolQC'] = rate(train['PoolQC'])\n",
    "\n",
    "def fin(s):\n",
    "    f={'GLQ':6 ,'ALQ':5 ,'BLQ':4 ,'Rec':3 ,'LwQ':2 ,'Unf':1 ,'NA':0,0:0}\n",
    "    s = s.fillna(0)\n",
    "    return [f[e] for e in s]\n",
    "clean['BsmtFinType1'] = fin(train['BsmtFinType1'])\n",
    "clean['BsmtFinType2'] = fin(train['BsmtFinType2'])\n",
    "\n",
    "def AC(s):\n",
    "    acpre={'N':0,'Y':1,0:0}\n",
    "    s = s.fillna(0)\n",
    "    return [acpre[e] for e in s]\n",
    "clean['CentralAir']=AC(train['CentralAir'])\n",
    "\n",
    "def slo(s):\n",
    "    sl={'Gtl':0,'Mod':1,'Sev':2,0:0}\n",
    "    s = s.fillna(0)\n",
    "    return [sl[e] for e in s]\n",
    "clean['LandSlope']=slo(train['LandSlope'])\n",
    "\n",
    "def functional(s):\n",
    "    fn={'Typ':8,'Min1':7,'Min2':6,'Mod':5,'Maj1':4,'Maj2':3,'Sev':2,'Sal':1,0:0}\n",
    "    s = s.fillna(0)\n",
    "    return [fn[e] for e in s]\n",
    "clean['Functional']=functional(train['Functional'])\n",
    "\n",
    "def garagefin(s):\n",
    "    fn={'Fin':3,'RFn':2,'Unf':1,'NA':0,0:0}\n",
    "    s = s.fillna(0)\n",
    "    return [fn[e] for e in s]\n",
    "clean['GarageFinish']=garagefin(train['GarageFinish'])\n",
    "\n",
    "def fencequal(s):\n",
    "    fn={'GdPrv':4,'MnPrv':3,'GdWo':2,'MnWw':1,'NA':0,0:0}\n",
    "    s = s.fillna(0)\n",
    "    return [fn[e] for e in s]\n",
    "clean['Fence']=fencequal(train['Fence'])\n"
   ]
  },
  {
   "cell_type": "code",
   "execution_count": 8,
   "metadata": {
    "collapsed": false
   },
   "outputs": [
    {
     "name": "stderr",
     "output_type": "stream",
     "text": [
      "/usr/local/lib/python2.7/dist-packages/ipykernel/__main__.py:2: FutureWarning: sort(columns=....) is deprecated, use sort_values(by=.....)\n",
      "  from ipykernel import kernelapp as app\n"
     ]
    },
    {
     "data": {
      "text/plain": [
       "SalePrice             1.000000\n",
       "OverallQual           0.790982\n",
       "GrLivArea             0.708624\n",
       "ExterQual             0.682639\n",
       "KitchenQual           0.659600\n",
       "GarageCars            0.640409\n",
       "GarageArea            0.623431\n",
       "TotalBsmtSF           0.613581\n",
       "1stFlrSF              0.605852\n",
       "BsmtQual              0.585207\n",
       "GarageFinish          0.549247\n",
       "TotRmsAbvGrd          0.533723\n",
       "YearBuilt             0.522897\n",
       "FireplaceQu           0.520438\n",
       "GarageYrBlt           0.486362\n",
       "Fireplaces            0.466929\n",
       "HeatingQC             0.427649\n",
       "NridgHt               0.402149\n",
       "BsmtFinSF1            0.386420\n",
       "BsmtExposure          0.378659\n",
       "60                    0.377197\n",
       "New                   0.357509\n",
       "Partial               0.352060\n",
       "LotFrontage           0.351799\n",
       "Attchd                0.335961\n",
       "Stone                 0.330476\n",
       "NoRidge               0.330424\n",
       "WoodDeckSF            0.324413\n",
       "2ndFlrSF              0.319334\n",
       "OpenPorchSF           0.315856\n",
       "                        ...   \n",
       "90                   -0.114655\n",
       "Condition1Feedr      -0.117329\n",
       "Abnorml              -0.118069\n",
       "FuseF                -0.126601\n",
       "Sawyer               -0.128394\n",
       "EnclosedPorch        -0.128578\n",
       "KitchenAbvGr         -0.135907\n",
       "AlleyGrvl            -0.139195\n",
       "BrkSide              -0.143648\n",
       "Fence                -0.146942\n",
       "Normal               -0.153990\n",
       "50                   -0.156692\n",
       "Exterior1stWd Sdng   -0.158619\n",
       "Exterior2ndWd Sdng   -0.161800\n",
       "Exterior2ndMetalSd   -0.162389\n",
       "1.5Fin               -0.163466\n",
       "IDOTRR               -0.164056\n",
       "Exterior1stMetalSd   -0.167068\n",
       "Edwards              -0.179949\n",
       "NAmes                -0.188513\n",
       "OldTown              -0.192189\n",
       "FuseA                -0.193978\n",
       "N                    -0.212630\n",
       "Gable                -0.224744\n",
       "30                   -0.238640\n",
       "WD                   -0.242598\n",
       "Reg                  -0.267672\n",
       "RM                   -0.288065\n",
       "Detchd               -0.354141\n",
       "None                 -0.374468\n",
       "Name: SalePrice, dtype: float64"
      ]
     },
     "execution_count": 8,
     "metadata": {},
     "output_type": "execute_result"
    }
   ],
   "source": [
    "#Check correlations of each column woth saleprice, sort in descending order\n",
    "clean.corr().sort(columns=\"SalePrice\", ascending=False)[\"SalePrice\"] "
   ]
  },
  {
   "cell_type": "code",
   "execution_count": 9,
   "metadata": {
    "collapsed": false
   },
   "outputs": [
    {
     "name": "stdout",
     "output_type": "stream",
     "text": [
      "(80, 'SLvl', 0.94225926282546268)\n",
      "(190, '2fmCon', 0.9833947289219932)\n",
      "('FV', 'Somerst', 0.86280710997720367)\n",
      "('1.5Fin', 50, 0.94087122959356229)\n",
      "('1.5Unf', 45, 0.92518050031814936)\n",
      "('2Story', '2ndFlrSF', 0.8091497798648758)\n",
      "('Flat', 'Tar&Grv', 0.83491392414796617)\n",
      "('Exterior1stAsbShng', 'Exterior2ndAsbShng', 0.84791666666666321)\n",
      "('Exterior1stCemntBd', 'Exterior2ndCmentBd', 0.97417108419398746)\n",
      "('Exterior1stHdBoard', 'Exterior2ndHdBoard', 0.88327139703046875)\n",
      "('Exterior1stMetalSd', 'Exterior2ndMetalSd', 0.97306519376254619)\n",
      "('Exterior1stVinylSd', 'Exterior2ndVinylSd', 0.97752488730363829)\n",
      "('Exterior1stWd Sdng', 'Exterior2ndWd Sdng', 0.8592439328330238)\n",
      "('New', 'Partial', 0.98681895968454691)\n",
      "('1stFlrSF', 'TotalBsmtSF', 0.81952997500503555)\n",
      "('GrLivArea', 'TotRmsAbvGrd', 0.82548937430883773)\n",
      "('GarageYrBlt', 'YearBuilt', 0.82566748417434344)\n",
      "('GarageArea', 'GarageCars', 0.88247541428146026)\n",
      "('PoolArea', 'PoolQC', 0.93705650054772305)\n",
      "('FireplaceQu', 'Fireplaces', 0.86324123588843393)\n",
      "('GarageCond', 'GarageQual', 0.9591716048953971)\n"
     ]
    }
   ],
   "source": [
    "#Drop one of the columns of the two columns having correlation>0.8\n",
    "correlations = clean.corr()\n",
    "for x in correlations.columns:\n",
    "    for y in correlations.columns:\n",
    "        if (str)(x)<(str)(y) and correlations[x][y] > .8 and correlations[x][y] !=1:\n",
    "          clean = clean.drop([x], axis=1) #axis=1 - column\n",
    "          print(x, y, correlations[x][y])\n",
    "            "
   ]
  },
  {
   "cell_type": "code",
   "execution_count": 10,
   "metadata": {
    "collapsed": false
   },
   "outputs": [
    {
     "data": {
      "text/plain": [
       "(1460, 208)"
      ]
     },
     "execution_count": 10,
     "metadata": {},
     "output_type": "execute_result"
    }
   ],
   "source": [
    "clean.shape"
   ]
  },
  {
   "cell_type": "code",
   "execution_count": 11,
   "metadata": {
    "collapsed": false
   },
   "outputs": [
    {
     "name": "stdout",
     "output_type": "stream",
     "text": [
      "(20, 0.041273923380240718)\n",
      "(40, -0.016365535870343034)\n",
      "(45, -0.082912086427782014)\n",
      "(70, -0.03688301717653536)\n",
      "(75, 0.015264598404934833)\n",
      "(85, -0.049136529819502617)\n",
      "(120, 0.062943835482060242)\n",
      "(180, -0.082215084580448294)\n",
      "('RH', -0.06542929310102559)\n",
      "('StreetGrvl', -0.041035535500049819)\n",
      "('StreetPave', 0.041035535500049888)\n",
      "('AlleyPave', -0.027655379955633733)\n",
      "('IR3', 0.036720475499535554)\n",
      "('Low', 0.045528250327495391)\n",
      "('Lvl', -0.027544579330839109)\n",
      "('AllPub', 0.014314296147248953)\n",
      "('NoSeWa', -0.014314296147248952)\n",
      "('Corner', 0.0041448232940724918)\n",
      "('FR2', -0.0068588907827759355)\n",
      "('FR3', 0.018185562475503233)\n",
      "('Inside', -0.080537869145906063)\n",
      "('Blmngtn', 0.019065649513505641)\n",
      "('Blueste', -0.020250412762982277)\n",
      "('ClearCr', 0.055718310532912374)\n",
      "('CollgCr', 0.072625993127077307)\n",
      "('Crawfor', 0.071159602526647672)\n",
      "('Gilbert', 0.035939622294684025)\n",
      "('Mitchel', -0.057845054186763285)\n",
      "('NPkVill', -0.037909739904050312)\n",
      "('NWAmes', 0.023482773020255355)\n",
      "('SWISU', -0.063705492444379133)\n",
      "('SawyerW', 0.014560153318488835)\n",
      "('Veenker', 0.063470639340553442)\n",
      "('Condition1PosA', 0.042016899085416899)\n",
      "('Condition1PosN', 0.049541168447944317)\n",
      "('Condition1RRAe', -0.046651271352762445)\n",
      "('Condition1RRAn', 0.0058927117115444468)\n",
      "('Condition1RRNe', 0.0045838751352684313)\n",
      "('Condition1RRNn', 0.02323633312450878)\n",
      "('Condition2Artery', -0.034707932478395799)\n",
      "('Condition2Feedr', -0.048334821003573336)\n",
      "('Condition2Norm', 0.030676288435637716)\n",
      "('Condition2PosA', 0.047497233281444541)\n",
      "('Condition2PosN', 0.048481102335697475)\n",
      "('Condition2RRAe', 0.0029929320927850563)\n",
      "('Condition2RRAn', -0.014510444733969317)\n",
      "('Condition2RRNn', -0.039255055614695243)\n",
      "('2fmCon', -0.097348301941283313)\n",
      "('Twnhs', -0.098730198610489511)\n",
      "('TwnhsE', 0.0038043834533088893)\n",
      "('1Story', -0.061811100535888362)\n",
      "('2.5Fin', 0.036525722375987446)\n",
      "('2.5Unf', -0.025855674595624382)\n",
      "('SFoyer', -0.09308987468225105)\n",
      "('SLvl', -0.03864543349361034)\n",
      "('Gambrel', -0.035121434493649024)\n",
      "('Mansard', -0.00030831909381730092)\n",
      "('Shed', 0.020557102562781857)\n",
      "('ClyTile', -0.0068969126158057387)\n",
      "('Membran', 0.019970498842533119)\n",
      "('Metal', -0.00030368281007855767)\n",
      "('Roll', -0.01447912689239202)\n",
      "('Tar&Grv', 0.0049208112142087096)\n",
      "('WdShake', 0.044642917004405522)\n",
      "('Exterior1stAsphShn', -0.026676602032987568)\n",
      "('Exterior1stBrkComm', -0.051264124410563071)\n",
      "('Exterior1stBrkFace', 0.032371390691589993)\n",
      "('Exterior1stCBlock', -0.02502829458155547)\n",
      "('Exterior1stImStucc', 0.026728559393403007)\n",
      "('Exterior1stPlywood', -0.01771925649284015)\n",
      "('Exterior1stStone', 0.036180551287502985)\n",
      "('Exterior1stStucco', -0.029802258156837767)\n",
      "('Exterior1stWdShing', -0.051317406143120546)\n",
      "('Exterior2ndAsbShng', -0.099220219391012748)\n",
      "('Exterior2ndAsphShn', -0.024524407793441318)\n",
      "('Exterior2ndBrk Cmn', -0.047376909721542029)\n",
      "('Exterior2ndBrkFace', 0.024758995691036425)\n",
      "('Exterior2ndCBlock', -0.02502829458155547)\n",
      "('Exterior2ndHdBoard', -0.067863605343808628)\n",
      "('Exterior2ndImStucc', 0.074401118952974798)\n",
      "('Exterior2ndOther', 0.045519264339726327)\n",
      "('Exterior2ndPlywood', -0.052940868975969849)\n",
      "('Exterior2ndStone', -0.016753527668945715)\n",
      "('Exterior2ndStucco', -0.04241569231469932)\n",
      "('Exterior2ndWd Shng', -0.04032943564551994)\n",
      "('BrkCmn', -0.044393863680548006)\n",
      "('Floor', -0.035742293015862188)\n",
      "('GasA', 0.092528913163041696)\n",
      "('GasW', -0.020102599035433592)\n",
      "('Grav', -0.092338033511046344)\n",
      "('OthW', -0.02573027910672783)\n",
      "('Wall', -0.058622156149097902)\n",
      "('FuseP', -0.047760617694948077)\n",
      "('Mix', -0.03755543121243804)\n",
      "('2Types', -0.02397376065437426)\n",
      "('Basment', -0.029424968522137)\n",
      "('CarPort', -0.070370626486927323)\n",
      "('P', -0.088622920933171812)\n",
      "('COD', -0.08104671129791155)\n",
      "('CWD', 0.019588066467574435)\n",
      "('Con', 0.041357276088828436)\n",
      "('ConLD', -0.041790840641079345)\n",
      "('ConLI', 0.014371054765972273)\n",
      "('ConLw', -0.027475125928901712)\n",
      "('Oth', -0.034894994917515354)\n",
      "('AdjLand', -0.050685633558671804)\n",
      "('Alloca', -0.015525374015420043)\n",
      "('Family', -0.04648019603234449)\n",
      "('OverallCond', -0.077855894048677599)\n",
      "('BsmtFinSF2', -0.011378121450215216)\n",
      "('LowQualFinSF', -0.025606130000680152)\n",
      "('BsmtHalfBath', -0.016844154297359294)\n",
      "('3SsnPorch', 0.044583665335747917)\n",
      "('MiscVal', -0.021189579640303789)\n",
      "('MoSold', 0.046432245223819363)\n",
      "('YrSold', -0.028922585168730426)\n",
      "('ExterCond', 0.018899118482413147)\n",
      "('BsmtFinType2', -0.0053231606734749689)\n",
      "('LandSlope', 0.051152248179465863)\n"
     ]
    }
   ],
   "source": [
    "#Drop columns with correlation of less than 0.1 and greater than -0.1 with SalePrice\n",
    "correlations = clean.corr()\n",
    "for x in correlations.columns:\n",
    "    cor=correlations[x]['SalePrice']\n",
    "    if cor<.1 and cor>-0.1 and cor!=1:\n",
    "        clean = clean.drop([x], axis=1) #axis=1 meaning column\n",
    "        print(x,correlations[x]['SalePrice'])\n"
   ]
  },
  {
   "cell_type": "code",
   "execution_count": 12,
   "metadata": {
    "collapsed": false
   },
   "outputs": [
    {
     "data": {
      "text/plain": [
       "(1460, 89)"
      ]
     },
     "execution_count": 12,
     "metadata": {},
     "output_type": "execute_result"
    }
   ],
   "source": [
    "clean.shape"
   ]
  },
  {
   "cell_type": "code",
   "execution_count": 13,
   "metadata": {
    "collapsed": true
   },
   "outputs": [],
   "source": [
    "#Fill LotFrontage column with na values with 0(No LotFrontage)\n",
    "clean['LotFrontage']=clean['LotFrontage'].fillna(0)"
   ]
  },
  {
   "cell_type": "code",
   "execution_count": 15,
   "metadata": {
    "collapsed": false
   },
   "outputs": [],
   "source": [
    "import pandas as pd\n",
    "import numpy as np\n",
    "#Apply log transformation for columns with high skew\n",
    "\n",
    "numericcols=[]\n",
    "for i in clean:\n",
    "    for j in clean[i]:\n",
    "        if(j!=0 and j!=1):\n",
    "            numericcols.append(i)\n",
    "            break\n",
    "\n",
    "#Columns with high skew obtained from skew.r            \n",
    "skew=['30','50','60','90','X160','C(all)','RL','RM','AlleyGrvl','Alleynan','IR2','Bnk','HLS','CulDSac',\n",
    "      'BrDale','BrkSide','Edwards','IDOTRR','MeadowV','NAmes','NoRidge','NridgHt','OldTown','Sawyer','Somerst'\n",
    "    ,'StoneBr','Timber','Condition1Artery','Condition1Feedr','Condition1Norm','X1Fam','Duplex','Gable','Hip'\n",
    "    ,'CompShg','WdShngl','Exterior2ndCmentBd','Exterior2ndMetalSd','Exterior2ndWd.Sdng','BrkFace','Stone',\n",
    "    'FuseA','FuseF','SBrkr','BuiltIn','Detchd','N','Y','WD','Abnorml','Normal','Partial','LotArea','BsmtFinSF1',\n",
    "    'BsmtUnfSF','TotalBsmtSF','X2ndFlrSF','KitchenAbvGr','WoodDeckSF','OpenPorchSF','EnclosedPorch',\n",
    "    'ScreenPorch','ExterQual','BsmtQual','BsmtCond','GarageQual','PoolQC','CentralAir','Functional'\n",
    "    ,'Fence','SalePrice']\n",
    "\n",
    "#Log transform columns with high skew\n",
    "for i in clean:\n",
    "    if i in numericcols and i in skew:\n",
    "        clean[i]=np.log(clean[i]+1)\n",
    "        \n",
    "clean.to_csv('finalclean.csv')"
   ]
  },
  {
   "cell_type": "code",
   "execution_count": 16,
   "metadata": {
    "collapsed": false
   },
   "outputs": [
    {
     "name": "stderr",
     "output_type": "stream",
     "text": [
      "/usr/local/lib/python2.7/dist-packages/sklearn/cross_validation.py:44: DeprecationWarning: This module was deprecated in version 0.18 in favor of the model_selection module into which all the refactored classes and functions are moved. Also note that the interface of the new CV iterators are different from that of this module. This module will be removed in 0.20.\n",
      "  \"This module will be removed in 0.20.\", DeprecationWarning)\n"
     ]
    },
    {
     "name": "stdout",
     "output_type": "stream",
     "text": [
      "0.143231239255\n"
     ]
    }
   ],
   "source": [
    "import numpy as np\n",
    "from sklearn.cross_validation import train_test_split\n",
    "from sklearn.ensemble import RandomForestClassifier\n",
    "from sklearn.ensemble import RandomForestRegressor\n",
    "#Split training data into train and test 0.2% of training data into test\n",
    "#local_trainX, local_testX = train_test_split(clean, test_size=0.2, random_state=123)\n",
    "#local_trainY, local_testY = train_test_split(clean['SalePrice'], test_size=0.2, random_state=123)\n",
    "\n",
    "trainX, testX, trainY, testY = train_test_split(clean.drop('SalePrice',axis=1), clean['SalePrice'])\n",
    "\n",
    "#n_estimators: no of trees\n",
    "#n_jobs: number of jobs to run in parallel -1: number of jobs=no of CPU cores\n",
    "#Create a randomForestRegressor\n",
    "clf = RandomForestRegressor(n_estimators=500, n_jobs=-1)\n",
    "\n",
    "#Train random forest\n",
    "randomForestResult = clf.fit(trainX, trainY)\n",
    "\n",
    "#Predict for testX\n",
    "predictions = randomForestResult.predict(testX) \n",
    "\n",
    "#Finding rmse\n",
    "error = np.sqrt(((predictions - testY) ** 2).mean())\n",
    "print(error)\n",
    "\n",
    "#Training for the whole train data\n",
    "trainX = clean.drop(['SalePrice'], axis=1)\n",
    "trainY = clean['SalePrice']\n",
    "randomForestResult = clf.fit(trainX, trainY)\n"
   ]
  },
  {
   "cell_type": "code",
   "execution_count": 17,
   "metadata": {
    "collapsed": false
   },
   "outputs": [],
   "source": [
    "#Test data on which same tranformations are applied\n",
    "import pandas as pd\n",
    "testData = pd.read_csv(\"/home/sanjana/DataAnalytics/project/logtransformedtest.csv\")\n"
   ]
  },
  {
   "cell_type": "code",
   "execution_count": 18,
   "metadata": {
    "collapsed": false
   },
   "outputs": [
    {
     "ename": "ValueError",
     "evalue": "could not convert string to float: Normal",
     "output_type": "error",
     "traceback": [
      "\u001b[0;31m---------------------------------------------------------------------------\u001b[0m",
      "\u001b[0;31mValueError\u001b[0m                                Traceback (most recent call last)",
      "\u001b[0;32m<ipython-input-18-eed792e13771>\u001b[0m in \u001b[0;36m<module>\u001b[0;34m()\u001b[0m\n\u001b[0;32m----> 1\u001b[0;31m \u001b[0mtestPrediction\u001b[0m\u001b[0;34m=\u001b[0m\u001b[0mrandomForestResult\u001b[0m\u001b[0;34m.\u001b[0m\u001b[0mpredict\u001b[0m\u001b[0;34m(\u001b[0m\u001b[0mtestData\u001b[0m\u001b[0;34m)\u001b[0m\u001b[0;34m\u001b[0m\u001b[0m\n\u001b[0m\u001b[1;32m      2\u001b[0m \u001b[0;34m\u001b[0m\u001b[0m\n\u001b[1;32m      3\u001b[0m \u001b[0mtestResult\u001b[0m\u001b[0;34m=\u001b[0m\u001b[0mpd\u001b[0m\u001b[0;34m.\u001b[0m\u001b[0mDataFrame\u001b[0m\u001b[0;34m(\u001b[0m\u001b[0;34m)\u001b[0m\u001b[0;34m\u001b[0m\u001b[0m\n\u001b[1;32m      4\u001b[0m  \u001b[0;31m#= df.append(h,ignore_index=True)\u001b[0m\u001b[0;34m\u001b[0m\u001b[0;34m\u001b[0m\u001b[0m\n\u001b[1;32m      5\u001b[0m \u001b[0mtestResult\u001b[0m\u001b[0;34m=\u001b[0m\u001b[0mtestResult\u001b[0m\u001b[0;34m.\u001b[0m\u001b[0mappend\u001b[0m\u001b[0;34m(\u001b[0m\u001b[0mtestData\u001b[0m\u001b[0;34m[\u001b[0m\u001b[0;34m'Id'\u001b[0m\u001b[0;34m]\u001b[0m\u001b[0;34m,\u001b[0m\u001b[0mignore_index\u001b[0m\u001b[0;34m=\u001b[0m\u001b[0mTrue\u001b[0m\u001b[0;34m)\u001b[0m\u001b[0;34m\u001b[0m\u001b[0m\n",
      "\u001b[0;32m/usr/local/lib/python2.7/dist-packages/sklearn/ensemble/forest.pyc\u001b[0m in \u001b[0;36mpredict\u001b[0;34m(self, X)\u001b[0m\n\u001b[1;32m    683\u001b[0m         \"\"\"\n\u001b[1;32m    684\u001b[0m         \u001b[0;31m# Check data\u001b[0m\u001b[0;34m\u001b[0m\u001b[0;34m\u001b[0m\u001b[0m\n\u001b[0;32m--> 685\u001b[0;31m         \u001b[0mX\u001b[0m \u001b[0;34m=\u001b[0m \u001b[0mself\u001b[0m\u001b[0;34m.\u001b[0m\u001b[0m_validate_X_predict\u001b[0m\u001b[0;34m(\u001b[0m\u001b[0mX\u001b[0m\u001b[0;34m)\u001b[0m\u001b[0;34m\u001b[0m\u001b[0m\n\u001b[0m\u001b[1;32m    686\u001b[0m \u001b[0;34m\u001b[0m\u001b[0m\n\u001b[1;32m    687\u001b[0m         \u001b[0;31m# Assign chunk of trees to jobs\u001b[0m\u001b[0;34m\u001b[0m\u001b[0;34m\u001b[0m\u001b[0m\n",
      "\u001b[0;32m/usr/local/lib/python2.7/dist-packages/sklearn/ensemble/forest.pyc\u001b[0m in \u001b[0;36m_validate_X_predict\u001b[0;34m(self, X)\u001b[0m\n\u001b[1;32m    353\u001b[0m                                  \"call `fit` before exploiting the model.\")\n\u001b[1;32m    354\u001b[0m \u001b[0;34m\u001b[0m\u001b[0m\n\u001b[0;32m--> 355\u001b[0;31m         \u001b[0;32mreturn\u001b[0m \u001b[0mself\u001b[0m\u001b[0;34m.\u001b[0m\u001b[0mestimators_\u001b[0m\u001b[0;34m[\u001b[0m\u001b[0;36m0\u001b[0m\u001b[0;34m]\u001b[0m\u001b[0;34m.\u001b[0m\u001b[0m_validate_X_predict\u001b[0m\u001b[0;34m(\u001b[0m\u001b[0mX\u001b[0m\u001b[0;34m,\u001b[0m \u001b[0mcheck_input\u001b[0m\u001b[0;34m=\u001b[0m\u001b[0mTrue\u001b[0m\u001b[0;34m)\u001b[0m\u001b[0;34m\u001b[0m\u001b[0m\n\u001b[0m\u001b[1;32m    356\u001b[0m \u001b[0;34m\u001b[0m\u001b[0m\n\u001b[1;32m    357\u001b[0m     \u001b[0;34m@\u001b[0m\u001b[0mproperty\u001b[0m\u001b[0;34m\u001b[0m\u001b[0m\n",
      "\u001b[0;32m/usr/local/lib/python2.7/dist-packages/sklearn/tree/tree.pyc\u001b[0m in \u001b[0;36m_validate_X_predict\u001b[0;34m(self, X, check_input)\u001b[0m\n\u001b[1;32m    363\u001b[0m \u001b[0;34m\u001b[0m\u001b[0m\n\u001b[1;32m    364\u001b[0m         \u001b[0;32mif\u001b[0m \u001b[0mcheck_input\u001b[0m\u001b[0;34m:\u001b[0m\u001b[0;34m\u001b[0m\u001b[0m\n\u001b[0;32m--> 365\u001b[0;31m             \u001b[0mX\u001b[0m \u001b[0;34m=\u001b[0m \u001b[0mcheck_array\u001b[0m\u001b[0;34m(\u001b[0m\u001b[0mX\u001b[0m\u001b[0;34m,\u001b[0m \u001b[0mdtype\u001b[0m\u001b[0;34m=\u001b[0m\u001b[0mDTYPE\u001b[0m\u001b[0;34m,\u001b[0m \u001b[0maccept_sparse\u001b[0m\u001b[0;34m=\u001b[0m\u001b[0;34m\"csr\"\u001b[0m\u001b[0;34m)\u001b[0m\u001b[0;34m\u001b[0m\u001b[0m\n\u001b[0m\u001b[1;32m    366\u001b[0m             if issparse(X) and (X.indices.dtype != np.intc or\n\u001b[1;32m    367\u001b[0m                                 X.indptr.dtype != np.intc):\n",
      "\u001b[0;32m/usr/local/lib/python2.7/dist-packages/sklearn/utils/validation.pyc\u001b[0m in \u001b[0;36mcheck_array\u001b[0;34m(array, accept_sparse, dtype, order, copy, force_all_finite, ensure_2d, allow_nd, ensure_min_samples, ensure_min_features, warn_on_dtype, estimator)\u001b[0m\n\u001b[1;32m    380\u001b[0m                                       force_all_finite)\n\u001b[1;32m    381\u001b[0m     \u001b[0;32melse\u001b[0m\u001b[0;34m:\u001b[0m\u001b[0;34m\u001b[0m\u001b[0m\n\u001b[0;32m--> 382\u001b[0;31m         \u001b[0marray\u001b[0m \u001b[0;34m=\u001b[0m \u001b[0mnp\u001b[0m\u001b[0;34m.\u001b[0m\u001b[0marray\u001b[0m\u001b[0;34m(\u001b[0m\u001b[0marray\u001b[0m\u001b[0;34m,\u001b[0m \u001b[0mdtype\u001b[0m\u001b[0;34m=\u001b[0m\u001b[0mdtype\u001b[0m\u001b[0;34m,\u001b[0m \u001b[0morder\u001b[0m\u001b[0;34m=\u001b[0m\u001b[0morder\u001b[0m\u001b[0;34m,\u001b[0m \u001b[0mcopy\u001b[0m\u001b[0;34m=\u001b[0m\u001b[0mcopy\u001b[0m\u001b[0;34m)\u001b[0m\u001b[0;34m\u001b[0m\u001b[0m\n\u001b[0m\u001b[1;32m    383\u001b[0m \u001b[0;34m\u001b[0m\u001b[0m\n\u001b[1;32m    384\u001b[0m         \u001b[0;32mif\u001b[0m \u001b[0mensure_2d\u001b[0m\u001b[0;34m:\u001b[0m\u001b[0;34m\u001b[0m\u001b[0m\n",
      "\u001b[0;31mValueError\u001b[0m: could not convert string to float: Normal"
     ]
    }
   ],
   "source": [
    "testPrediction=randomForestResult.predict(testData)\n",
    "\n",
    "testResult=pd.DataFrame()\n",
    " #= df.append(h,ignore_index=True)\n",
    "testResult=testResult.append(testData['Id'],ignore_index=True)\n",
    "testPrediction=pd.Series(testPrediction)\n",
    "testResult=testResult.append(testPrediction,ignore_index=True)\n",
    "#testResult.join(testPrediction)\n",
    "\n",
    "testResult.to_csv('testResult')\n",
    "\n",
    "testResult=pd.DataFrame.transpose(testResult)\n",
    "testResult.shape\n",
    "\n",
    "\n",
    "#Result written to RESULT.csv\n",
    "testResult.to_csv('RESULT.csv')"
   ]
  },
  {
   "cell_type": "code",
   "execution_count": null,
   "metadata": {
    "collapsed": true
   },
   "outputs": [],
   "source": [
    "import pandas as pd\n",
    "clean = pd.read_csv(\"/home/sanjana/DataAnalytics/project/finalclean.csv\")\n",
    "lassoresult = pd.read_csv(\"/home/sanjana/DataAnalytics/project/lassoOntest.csv\")\n",
    "xgboostresult = pd.read_csv(\"/home/sanjana/DataAnalytics/project/xgboostOntest.csv\")\n",
    "testData = pd.read_csv(\"/home/sanjana/DataAnalytics/project/corrandlogtest.csv\")\n",
    "\n",
    "from sklearn.ensemble import RandomForestClassifier\n",
    "from sklearn.ensemble import RandomForestRegressor\n",
    "import numpy as np\n",
    "print('Done1')\n",
    "clf = RandomForestRegressor(n_estimators=5000, n_jobs=-1)\n",
    "\n",
    "#Get forest model\n",
    "X_train = clean.drop(['SalePrice'], axis=1)\n",
    "Y_train = clean['SalePrice']\n",
    "randomForestResult = clf.fit(X_train, Y_train)\n",
    "prediction=randomForestResult.predict(testData)\n",
    "\n",
    "\n",
    "#Combining result from various models\n",
    "#0.6-lasso ,0.4-xgboost - Bestresult\n",
    "new_pred=0.6*lassoresult['SalePrice']+0.2*xgboostresult['SalePrice']+0.2*prediction\n",
    "new_pred.to_csv('ResultLassoXgForest.csv')"
   ]
  },
  {
   "cell_type": "code",
   "execution_count": null,
   "metadata": {
    "collapsed": true
   },
   "outputs": [],
   "source": []
  }
 ],
 "metadata": {
  "kernelspec": {
   "display_name": "Python 2",
   "language": "python",
   "name": "python2"
  },
  "language_info": {
   "codemirror_mode": {
    "name": "ipython",
    "version": 2
   },
   "file_extension": ".py",
   "mimetype": "text/x-python",
   "name": "python",
   "nbconvert_exporter": "python",
   "pygments_lexer": "ipython2",
   "version": "2.7.6"
  }
 },
 "nbformat": 4,
 "nbformat_minor": 0
}
